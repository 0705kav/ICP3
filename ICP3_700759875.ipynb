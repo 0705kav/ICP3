{
  "nbformat": 4,
  "nbformat_minor": 0,
  "metadata": {
    "colab": {
      "provenance": []
    },
    "kernelspec": {
      "name": "python3",
      "display_name": "Python 3"
    },
    "language_info": {
      "name": "python"
    }
  },
  "cells": [
    {
      "cell_type": "code",
      "execution_count": 1,
      "metadata": {
        "colab": {
          "base_uri": "https://localhost:8080/"
        },
        "id": "tvsbDo5FUDc3",
        "outputId": "a65f371e-d3c3-43d0-f7f2-8d6c62c066b0"
      },
      "outputs": [
        {
          "output_type": "execute_result",
          "data": {
            "text/plain": [
              "array([[ 3.75448017,  4.8898749 ,  6.98140675,  0.        , 13.10937671],\n",
              "       [14.38568094,  5.96056506,  4.86551204,  2.02946574,  0.        ],\n",
              "       [ 4.0410608 , 13.01489329,  3.18900911,  6.66799118,  0.        ],\n",
              "       [ 8.775879  , 13.77660079,  0.        , 11.73016065, 12.97049754]])"
            ]
          },
          "metadata": {},
          "execution_count": 1
        }
      ],
      "source": [
        "import numpy as np\n",
        "\n",
        "x = np.random.uniform(low=1, high=20, size=20)\n",
        "x_vec = x.reshape(4, 5)\n",
        "max_ind = np.argmax(x_vec, axis=1)\n",
        "row_ind = np.arange(x_vec.shape[0])\n",
        "multi_ind = np.array([row_ind, max_ind])\n",
        "linear_ind = np.ravel_multi_index(multi_ind, x_vec.shape)\n",
        "x_vec.reshape((-1))[linear_ind] = 0\n",
        "x_vec"
      ]
    },
    {
      "cell_type": "code",
      "source": [
        "class Employee:\n",
        "\n",
        "    number_of_Employees = 0\n",
        "\n",
        "    def __init__(self, name, family_name, salary, department):\n",
        "        self.__name = name\n",
        "        self.__family_name = family_name\n",
        "        self.salary = salary\n",
        "        self.__department = department\n",
        "        Employee.number_of_Employees += 1\n",
        "\n",
        "\n",
        "    def average_salary(employees):\n",
        "\n",
        "        sum = 0\n",
        "        for employee in employees:\n",
        "            sum += employee.salary\n",
        "        return sum / Employee.number_of_Employees\n",
        "\n",
        "\n",
        "class FulltimeEmployee(Employee):\n",
        "\n",
        "    def __init__(self, name, family_name, salary, department):\n",
        "        super().__init__(name, family_name, salary, department)\n",
        "\n",
        "    def full_time_benefits(self):\n",
        "        print(\" full time.\")\n",
        "\n",
        "\n",
        "def main():\n",
        "    employees = []\n",
        "    fte1 = FulltimeEmployee(\"x\", \"x.y\", 80000, \"testing\")\n",
        "    fte1.full_time_benefits()\n",
        "    employees.append(fte1)\n",
        "    fte2 = FulltimeEmployee(\"a\", \"a.b\", 60000, \"deveops\")\n",
        "    employees.append(fte2)\n",
        "    emp1 = Employee(\"c\", \"c.d\", 9000, \"manager\")\n",
        "    employees.append(emp1)\n",
        "    emp2 = Employee(\"f\", \"f.h\", 100000, \"ceo\")\n",
        "    employees.append(emp2)\n",
        "    print(\"Average salary:\", FulltimeEmployee.average_salary(employees))\n",
        "\n",
        "if __name__ == \"__main__\":\n",
        "    main()"
      ],
      "metadata": {
        "colab": {
          "base_uri": "https://localhost:8080/"
        },
        "id": "EM4ZIv6EUJTX",
        "outputId": "4dc240b2-f90a-4ac3-d967-625ad4c72acb"
      },
      "execution_count": 2,
      "outputs": [
        {
          "output_type": "stream",
          "name": "stdout",
          "text": [
            " full time.\n",
            "Average salary: 62250.0\n"
          ]
        }
      ]
    }
  ]
}